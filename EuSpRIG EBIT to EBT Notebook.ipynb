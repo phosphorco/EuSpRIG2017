{
 "cells": [
  {
   "cell_type": "markdown",
   "metadata": {},
   "source": [
    "## From EBIT to EBT Calculations, \"Scripted\" (Hard Coded)\n",
    "   * Calculate Earnings before Taxes, given EBIT, an interest rate, and an amount of debt\n",
    "   * Interest Expense calculated using IPMT function"
   ]
  },
  {
   "cell_type": "markdown",
   "metadata": {},
   "source": [
    "###### Import Python Numbers Library, NumPy"
   ]
  },
  {
   "cell_type": "code",
   "execution_count": null,
   "metadata": {
    "collapsed": true
   },
   "outputs": [],
   "source": [
    "import numpy as np # namespace\n",
    "np.set_printoptions(precision=1)"
   ]
  },
  {
   "cell_type": "markdown",
   "metadata": {},
   "source": [
    "##### Define Inputs"
   ]
  },
  {
   "cell_type": "code",
   "execution_count": null,
   "metadata": {
    "collapsed": true
   },
   "outputs": [],
   "source": [
    "# periods and EBIT value to create \"array\"\n",
    "periods = 10\n",
    "ebit_value = 10\n",
    "\n",
    "# interest and debt amount\n",
    "interest_rate = .1\n",
    "debt_amount = 100\n"
   ]
  },
  {
   "cell_type": "markdown",
   "metadata": {},
   "source": [
    "##### Create EBIT Array"
   ]
  },
  {
   "cell_type": "code",
   "execution_count": null,
   "metadata": {},
   "outputs": [],
   "source": [
    "ebit = np.full(periods, ebit_value)\n",
    "\n",
    "# same as:\n",
    "# ebit = np.array([10, 10, 10, 10, 10, 10, 10, 10, 10, 10])"
   ]
  },
  {
   "cell_type": "code",
   "execution_count": null,
   "metadata": {},
   "outputs": [],
   "source": [
    "# to show outputs: just call it\n",
    "ebit"
   ]
  },
  {
   "cell_type": "markdown",
   "metadata": {},
   "source": [
    "##### Create Periods\n",
    "\n",
    "* use numpy arange function; arange short for \"array range\""
   ]
  },
  {
   "cell_type": "code",
   "execution_count": null,
   "metadata": {},
   "outputs": [],
   "source": [
    "# nope:\n",
    "period_range_nope = np.arange(periods) \n",
    "\n",
    "# yep:\n",
    "period_range_yep = np.arange(periods) + 1 # zero-based indexing\n",
    "\n",
    "print(period_range_nope)\n",
    "print(period_range_yep)"
   ]
  },
  {
   "cell_type": "markdown",
   "metadata": {},
   "source": [
    "##### Calculate Interest Expense"
   ]
  },
  {
   "cell_type": "code",
   "execution_count": null,
   "metadata": {},
   "outputs": [],
   "source": [
    "interest_expense = np.ipmt(interest_rate, period_range_yep, periods, -debt_amount)\n",
    "\n",
    "interest_expense"
   ]
  },
  {
   "cell_type": "markdown",
   "metadata": {},
   "source": [
    "###### Calculate EBT"
   ]
  },
  {
   "cell_type": "code",
   "execution_count": null,
   "metadata": {},
   "outputs": [],
   "source": [
    "ebt = ebit - interest_expense\n",
    "\n",
    "ebt"
   ]
  },
  {
   "cell_type": "code",
   "execution_count": null,
   "metadata": {
    "collapsed": true
   },
   "outputs": [],
   "source": []
  },
  {
   "cell_type": "markdown",
   "metadata": {},
   "source": [
    "## From EBIT to EBT Calculations (Model)\n",
    "* Same calculations as below, but without the inputs: only the LOGIC is modeled."
   ]
  },
  {
   "cell_type": "code",
   "execution_count": null,
   "metadata": {},
   "outputs": [],
   "source": [
    "# input and return types are (optionally) annotated in the function's signature\n",
    "\n",
    "def ebit_to_ebt(ebit, debt_amount, interest_rate):\n",
    "    \n",
    "    \"\"\"\n",
    "    We can provide documentation to be called upon here if user has questions.\n",
    "    \n",
    "    \"\"\"\n",
    "\n",
    "    periods = len(ebit)\n",
    "    period_range_yep = np.arange(periods) + 1\n",
    "    \n",
    "    interest_expense = np.ipmt(interest_rate, period_range_yep, periods, -debt_amount)\n",
    "    \n",
    "    ebt = ebit - interest_expense\n",
    "    \n",
    "    return ebt\n"
   ]
  },
  {
   "cell_type": "code",
   "execution_count": null,
   "metadata": {},
   "outputs": [],
   "source": [
    "ebit_to_ebt(ebit, debt_amount, interest_rate)\n"
   ]
  },
  {
   "cell_type": "markdown",
   "metadata": {},
   "source": [
    "##### From Repository"
   ]
  },
  {
   "cell_type": "code",
   "execution_count": null,
   "metadata": {},
   "outputs": [],
   "source": [
    "import eusprig_repo as er # uses NAMESPACE"
   ]
  },
  {
   "cell_type": "code",
   "execution_count": null,
   "metadata": {
    "collapsed": true
   },
   "outputs": [],
   "source": []
  },
  {
   "cell_type": "code",
   "execution_count": null,
   "metadata": {
    "collapsed": true
   },
   "outputs": [],
   "source": [
    "er.ebit_to_ebt(ebit, debt_amount, interest_rate)"
   ]
  },
  {
   "cell_type": "code",
   "execution_count": null,
   "metadata": {
    "collapsed": true
   },
   "outputs": [],
   "source": []
  },
  {
   "cell_type": "code",
   "execution_count": null,
   "metadata": {
    "collapsed": true
   },
   "outputs": [],
   "source": []
  }
 ],
 "metadata": {
  "kernelspec": {
   "display_name": "Python 3",
   "language": "python",
   "name": "python3"
  },
  "language_info": {
   "codemirror_mode": {
    "name": "ipython",
    "version": 3
   },
   "file_extension": ".py",
   "mimetype": "text/x-python",
   "name": "python",
   "nbconvert_exporter": "python",
   "pygments_lexer": "ipython3",
   "version": "3.6.1"
  }
 },
 "nbformat": 4,
 "nbformat_minor": 2
}
